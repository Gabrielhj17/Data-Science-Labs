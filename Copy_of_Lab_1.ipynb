{
  "cells": [
    {
      "cell_type": "markdown",
      "metadata": {
        "id": "view-in-github",
        "colab_type": "text"
      },
      "source": [
        "<a href=\"https://colab.research.google.com/github/Gabrielhj17/Data-Science-Labs/blob/main/Copy_of_Lab_1.ipynb\" target=\"_parent\"><img src=\"https://colab.research.google.com/assets/colab-badge.svg\" alt=\"Open In Colab\"/></a>"
      ]
    },
    {
      "cell_type": "markdown",
      "metadata": {
        "id": "g_PrIKSMc2Ly"
      },
      "source": [
        "# Lab 1: Python Basics\n",
        "\n",
        "In this lab, we are going to be continuing with Python basics."
      ]
    },
    {
      "cell_type": "markdown",
      "metadata": {
        "id": "kf1Nj6Jbc2L2"
      },
      "source": [
        "## Exercise 1\n",
        "Write a function which normalises a list of numbers, such that its values lie between 0 and 1 and its length is 1. That is: let $\\vec{v} = (x,y,z)$ be a list (mathematically known as a vector) of 3 elements, then the length (also know as the distance from the origin) of $\\vec{v}$, denoted by $|\\vec{v}|$, is\n",
        "\\begin{equation*}\n",
        "    |\\vec{v}| = \\sqrt{x^2 + y^2 + z^2}.\n",
        "\\end{equation*}\n",
        "A list is normalised, in the sense of linear algebra, when $|\\vec{v}| = 1$. So, to normalise $\\vec{v}$, we need to divide by its length. That is, we set\n",
        "\\begin{equation*}\n",
        "    \\vec{u} = \\frac{\\vec{v}}{|\\vec{v}|} = \\left( \\frac{x}{|\\vec{v}|}, \\frac{y}{|\\vec{v}|}, \\frac{z}{|\\vec{v}|} \\right)\n",
        "\\end{equation*}\n",
        "\n",
        "Let us do an example. Let us take $\\vec{v} = (1,2,2)$. Then, its length is\n",
        "\\begin{equation*}\n",
        "    |\\vec{v}| = \\sqrt{1^2 + 2^2 + 2^2} = \\sqrt{9} = 3.\n",
        "\\end{equation*}\n",
        "So, to normalise $\\vec{v}$, we divide its elements by 3. That is, the normalised version of $\\vec{v}$ is\n",
        "\\begin{equation*}\n",
        "    \\vec{u} = \\left( \\frac13, \\frac23, \\frac23 \\right).\n",
        "\\end{equation*}"
      ]
    },
    {
      "cell_type": "code",
      "execution_count": null,
      "metadata": {
        "id": "rmGpVoS9c2L3"
      },
      "outputs": [],
      "source": [
        "def calculate_length(a_list):\n",
        "    length = ((a_list[0] ** 2) + (a_list[1] ** 2) + (a_list[2] ** 2)) ** 0.5\n",
        "    return length\n",
        "\n",
        "def normalise(a_list):\n",
        "    denominator = calculate_length(a_list)\n",
        "\n",
        "    new_list = [component / denominator for component in a_list]\n",
        "    return new_list"
      ]
    },
    {
      "cell_type": "code",
      "execution_count": null,
      "metadata": {
        "id": "rfl8BewMc2L3",
        "colab": {
          "base_uri": "https://localhost:8080/"
        },
        "outputId": "b1d27319-e92d-4069-a7e3-e228ce70f65a"
      },
      "outputs": [
        {
          "output_type": "stream",
          "name": "stdout",
          "text": [
            "[0.4082482904638631, 0.4082482904638631, 0.8164965809277261]\n",
            "1.0\n"
          ]
        }
      ],
      "source": [
        "a_list = [1, 1, 2]\n",
        "new_list = normalise(a_list)\n",
        "print(new_list)\n",
        "print(calculate_length(new_list))\n",
        "# this should print 1, or at least something very close to 1"
      ]
    },
    {
      "cell_type": "markdown",
      "metadata": {
        "id": "xECI3wrMc2L4"
      },
      "source": [
        "## Exercise 2\n",
        "The following code snippet attempts to calculate the balance of a savings account with an annual interest rate of 5% after 4 years, if it starts with a balance of £100."
      ]
    },
    {
      "cell_type": "code",
      "execution_count": null,
      "metadata": {
        "id": "PtRMsSTlc2L4",
        "colab": {
          "base_uri": "https://localhost:8080/"
        },
        "outputId": "c92b34d1-b8bb-4f06-c8ea-986b4ef09a47"
      },
      "outputs": [
        {
          "output_type": "stream",
          "name": "stdout",
          "text": [
            "Balance after 4 years at a rate of 5% is £100.00\n"
          ]
        }
      ],
      "source": [
        "balance = 100\n",
        "years = 4\n",
        "rate = 5\n",
        "\n",
        "def add_interest(balance, rate):\n",
        "    balance += balance * rate / 100\n",
        "\n",
        "for year in range(years):\n",
        "    add_interest(balance, rate)\n",
        "\n",
        "print(f\"Balance after {years} years at a rate of {rate}% is £{balance:.2f}\")"
      ]
    },
    {
      "cell_type": "markdown",
      "metadata": {
        "id": "wfkF7i4Zc2L5"
      },
      "source": [
        "Why doesn't this work?\n",
        "\n",
        "_Double click on the cell and enter your answer here_\n",
        "\n",
        "\n",
        "Provide a working alternative below."
      ]
    },
    {
      "cell_type": "code",
      "execution_count": null,
      "metadata": {
        "id": "VL0bdMewc2L5",
        "colab": {
          "base_uri": "https://localhost:8080/"
        },
        "outputId": "87bbd4e4-4a02-4a41-e138-d24e0d78adbf"
      },
      "outputs": [
        {
          "output_type": "stream",
          "name": "stdout",
          "text": [
            "Balance after 4 years at a rate of 5% is £121.55\n"
          ]
        }
      ],
      "source": [
        "balance = 100\n",
        "years = 4\n",
        "rate = 5\n",
        "\n",
        "def add_interest(balance, rate):\n",
        "    balance += balance * rate / 100\n",
        "    return balance\n",
        "\n",
        "for year in range(years):\n",
        "    balance = add_interest(balance, rate)  # Update the balance after adding interest\n",
        "\n",
        "print(f\"Balance after {years} years at a rate of {rate}% is £{balance:.2f}\")"
      ]
    },
    {
      "cell_type": "markdown",
      "metadata": {
        "id": "2_Af3GZpc2L6"
      },
      "source": [
        "## Exercise 3\n",
        "The _Fibonacci sequence_ is the sequence of numbers generated by applying the rules:\n",
        "\\begin{equation}\n",
        "a_n = a_{n-1} + a_{n-2}, \\quad \\text{for } n > 1\n",
        "\\end{equation}\n",
        "where $a_0 = 1$ and $a_1 = 1$.\n",
        "\n",
        "Write a function to calculate all the Fibonacci numbers up to a given number $n$. Compute the first 20 Fibonacci numbers."
      ]
    },
    {
      "cell_type": "code",
      "execution_count": null,
      "metadata": {
        "id": "PO4xucOSc2L6"
      },
      "outputs": [],
      "source": [
        "def fibonacci(num):\n",
        "    fib_list = [0, 1]\n",
        "    for i in range(2, num):\n",
        "      fib_list.append(fib_list[i-1] + fib_list[i-2])\n",
        "    return fib_list"
      ]
    },
    {
      "cell_type": "code",
      "execution_count": null,
      "metadata": {
        "id": "QanMejorc2L6",
        "colab": {
          "base_uri": "https://localhost:8080/"
        },
        "outputId": "47a4539b-098c-4b62-ce42-9c90d527dbc6"
      },
      "outputs": [
        {
          "output_type": "stream",
          "name": "stdout",
          "text": [
            "[0, 1, 1, 2, 3, 5, 8, 13, 21, 34, 55, 89, 144, 233, 377, 610, 987, 1597, 2584, 4181]\n"
          ]
        }
      ],
      "source": [
        "num = 20\n",
        "print(fibonacci(num))"
      ]
    },
    {
      "cell_type": "markdown",
      "metadata": {
        "id": "f7pepMdRc2L7"
      },
      "source": [
        "## Exercise 3b\n",
        "Write a similar function that doesn't store all the previous numbers in the sequence. That is, I want only the $n$-th Fibonacci number without using a list. Computer the 20th Fibonacci number and compare it to the above function output."
      ]
    },
    {
      "cell_type": "code",
      "execution_count": null,
      "metadata": {
        "id": "FQ50kTKmc2L7"
      },
      "outputs": [],
      "source": [
        "def fibonacci2(num):\n",
        "    if num == 0:\n",
        "        return 0\n",
        "    elif num == 1:\n",
        "        return 1\n",
        "\n",
        "    fib_num, fib_num2 = 0, 1\n",
        "    for _ in range(2, num):\n",
        "        fib_num, fib_num2 = fib_num2, fib_num + fib_num2\n",
        "\n",
        "    return fib_num2"
      ]
    },
    {
      "cell_type": "code",
      "execution_count": null,
      "metadata": {
        "id": "oGPNWWstc2L8",
        "colab": {
          "base_uri": "https://localhost:8080/"
        },
        "outputId": "476c1d83-d332-46f2-d98e-c916f6cf1a56"
      },
      "outputs": [
        {
          "output_type": "stream",
          "name": "stdout",
          "text": [
            "173402521172797813159685037284371942044301\n"
          ]
        }
      ],
      "source": [
        "num = 200\n",
        "print(fibonacci2(num))"
      ]
    },
    {
      "cell_type": "markdown",
      "metadata": {
        "id": "ODOD_tmPc2L8"
      },
      "source": [
        "## Exercise 4 (Advanced)\n",
        "The game of FizzBuzz involves counting, but replacing numbers divisible by 3 with \"Fizz\", those divisible by 5 with \"Buzz\" and those divisible by both with \"FizzBuzz\". Write a functon to play FizzBuzz, counting up to 50. We need to be careful about how we print otherwise it will look terrible in the cell, so collect all the outputs and print a list at the end."
      ]
    },
    {
      "cell_type": "code",
      "execution_count": null,
      "metadata": {
        "id": "gUKwE_ZYc2L9"
      },
      "outputs": [],
      "source": [
        "def fizzbuzz(num):\n",
        "    print(f\"We are playing FizzBuzz up to {num}\")\n",
        "    a_list = []\n",
        "    for i in range(1, num + 1):\n",
        "        if i % 3 == 0 and i % 5 == 0:\n",
        "            a_list.append(\"FizzBuzz\")\n",
        "        elif i % 3 == 0:\n",
        "            a_list.append(\"Fizz\")\n",
        "        elif i % 5 == 0:\n",
        "            a_list.append(\"Buzz\")\n",
        "        else:\n",
        "            a_list.append(i)\n",
        "    return a_list"
      ]
    },
    {
      "cell_type": "code",
      "execution_count": null,
      "metadata": {
        "id": "J-3lgGyyc2L9",
        "colab": {
          "base_uri": "https://localhost:8080/"
        },
        "outputId": "ec404152-7e56-40cf-dd3d-4ccb5bb1ab17"
      },
      "outputs": [
        {
          "output_type": "stream",
          "name": "stdout",
          "text": [
            "We are playing FizzBuzz up to 50\n",
            "[1, 2, 'Fizz', 4, 'Buzz', 'Fizz', 7, 8, 'Fizz', 'Buzz', 11, 'Fizz', 13, 14, 'FizzBuzz', 16, 17, 'Fizz', 19, 'Buzz', 'Fizz', 22, 23, 'Fizz', 'Buzz', 26, 'Fizz', 28, 29, 'FizzBuzz', 31, 32, 'Fizz', 34, 'Buzz', 'Fizz', 37, 38, 'Fizz', 'Buzz', 41, 'Fizz', 43, 44, 'FizzBuzz', 46, 47, 'Fizz', 49, 'Buzz']\n"
          ]
        }
      ],
      "source": [
        "num = 50\n",
        "print(fizzbuzz(num))"
      ]
    },
    {
      "cell_type": "markdown",
      "metadata": {
        "id": "gqh6rr0uc2L9"
      },
      "source": [
        "## Exercise 4b (Advanced)\n",
        "Add up all the values in the game FizzBuzz. Note, you need to take into consideration the strings in the list."
      ]
    },
    {
      "cell_type": "code",
      "execution_count": null,
      "metadata": {
        "id": "RDOvgHnMc2L-"
      },
      "outputs": [],
      "source": [
        "def add_fizzbuzz(num):\n",
        "    a_list = []\n",
        "    score = 0\n",
        "    for i in range(1, num + 1):\n",
        "        if i % 3 == 0 and i % 5 == 0:\n",
        "            a_list.append(\"FizzBuzz\")\n",
        "        elif i % 3 == 0:\n",
        "            a_list.append(\"Fizz\")\n",
        "        elif i % 5 == 0:\n",
        "            a_list.append(\"Buzz\")\n",
        "        else:\n",
        "            a_list.append(i)\n",
        "        score += i\n",
        "    return score"
      ]
    },
    {
      "cell_type": "code",
      "execution_count": null,
      "metadata": {
        "id": "2B_qEzx_c2L-",
        "colab": {
          "base_uri": "https://localhost:8080/"
        },
        "outputId": "4f0e2689-d677-4598-c236-040f217786c9"
      },
      "outputs": [
        {
          "output_type": "stream",
          "name": "stdout",
          "text": [
            "1275\n"
          ]
        }
      ],
      "source": [
        "num = 50\n",
        "print(add_fizzbuzz(num))"
      ]
    },
    {
      "cell_type": "markdown",
      "metadata": {
        "id": "iFuokOvOc2L_"
      },
      "source": [
        "## Exercise 5 (advanced)\n",
        "The _Luhn algorithm_ is a simple checksum formula used to validate credit card and bank account numbers. It is designed to prevent common errors in transcribing the number, and detects all single-digit errors and almost all transpositions of two adjacent digits. The algorithm may be written as the following steps:\n",
        "1. Reverse the number.\n",
        "2. Treating the number as a list of digits, take the even-indexed digits (where the indexes start at *1*) and double their values. If a doubled digit results in a number greater than 10, add the two digits (e.g., the digit 6 becomes 12 and hence is replaced by 1 + 2 = 3).\n",
        "3. Sum this modified list.\n",
        "4. If the sum of the list is divisible by 10 the credit card number is valid.\n",
        "\n",
        "Write a function to check whether a given credit card number is valid (replacing the `...` with your code). You can assume that you will receive a 16 digit number as a string."
      ]
    },
    {
      "cell_type": "code",
      "execution_count": null,
      "metadata": {
        "id": "V5FO_mGPc2L_"
      },
      "outputs": [],
      "source": [
        "def luhn_algorithm(card_num):\n",
        "    card_num = [int(digit) for digit in card_num[::-1]]  # Reverse the card number and convert to int\n",
        "    check_sum = 0\n",
        "\n",
        "    for index, digit in enumerate(card_num):\n",
        "        if index % 2 == 1:  # Double every even index digit\n",
        "            digit *= 2\n",
        "            if digit > 9:  # If the doubled value is greater than 9, sum the digits\n",
        "                digit = digit - 9\n",
        "        check_sum += digit  # Sum all the digits\n",
        "\n",
        "    return check_sum % 10 == 0 # If total sum is divisible by 10, the card number is valid"
      ]
    },
    {
      "cell_type": "code",
      "execution_count": null,
      "metadata": {
        "id": "ZimE4gd1c2MA",
        "colab": {
          "base_uri": "https://localhost:8080/"
        },
        "outputId": "d877a741-5244-4b7b-c0f7-91cc81f4f3ac"
      },
      "outputs": [
        {
          "output_type": "stream",
          "name": "stdout",
          "text": [
            "True\n",
            "False\n"
          ]
        }
      ],
      "source": [
        "card_num = \"4799273987136272\"\n",
        "print(luhn_algorithm(card_num))\n",
        "card_num = \"4799273987136273\"\n",
        "print(luhn_algorithm(card_num))"
      ]
    }
  ],
  "metadata": {
    "kernelspec": {
      "display_name": "Python 3 (ipykernel)",
      "language": "python",
      "name": "python3"
    },
    "language_info": {
      "codemirror_mode": {
        "name": "ipython",
        "version": 3
      },
      "file_extension": ".py",
      "mimetype": "text/x-python",
      "name": "python",
      "nbconvert_exporter": "python",
      "pygments_lexer": "ipython3",
      "version": "3.11.5"
    },
    "colab": {
      "provenance": [],
      "include_colab_link": true
    }
  },
  "nbformat": 4,
  "nbformat_minor": 0
}